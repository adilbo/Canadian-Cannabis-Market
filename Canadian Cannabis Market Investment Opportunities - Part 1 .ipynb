{
 "cells": [
  {
   "cell_type": "markdown",
   "metadata": {},
   "source": [
    "\n",
    "<img src = \"https:\\\\www.rosintech.com\\wp-content\\uploads\\2018\\10\\canada-weed-flag-1280x640.jpg\" width = \"400\"\\> </a>\n",
    "\n",
    "<h1 align=center><font size = 5>Canadian Cannabis Market Investment Opportunities </font></h1>\n"
   ]
  },
  {
   "cell_type": "markdown",
   "metadata": {},
   "source": [
    "\n",
    "\n",
    "   With almost one on four Canadians consuming or likely to consume cannabis edibles and other alternative cannabis products, the Canadian cannabis industry is set to long term growth, consolidating its leadership on a market estimated globally to be US100Billion today and to reach US194Billion by 2025*.  \n",
    "\n",
    "The Canadian cannabis edibles also called cannabis 2.0 market  alone, is expected to be worth US$2.7Billion, hence we will study the market investment opportunities, by evaluating the market size and the number of retailers compared to the population size of each province.  \n",
    "\n",
    "This study will provide an outlook on the Canadian cannabis market, to investors who may be interested to grasp the opportunity on a market considered by experts at its infancy stage.     \n",
    "\n",
    "We will start by parsing the cannabis market data from websites like Wikipedia and Canada statistic,\n",
    "Then we will create the following data frames using pandas :  \n",
    "\n",
    "•\tThe population by province, will provide an idea on the market size.  \n",
    "•\tThe GDP by province,  to evaluate the GDP per capita, in order to provide an insight on the spending power.  \n",
    "•\tThe Geolocation of each province , will allow us to visualize our data on maps using Folium Library.  \n",
    "•\tThe number of cannabis retailers already established to size the competition in each neighborhood.  \n",
    "•\tThe cannabis sales by province, to evaluate the attractiveness of each province.  \n",
    "\n",
    "Once we get, clean and visualize above data, we will target one province with the most investment potential, in terms of above mentioned criteria’s.  \n",
    "\n",
    "In order to keep this study simple and focused on using data science technics, we will discard other criteria’s taken in consideration in similar investment,opportunities like the business environments, taxes…etc.  \n",
    "\n",
    "Moreover this study will consider only retail business as investment opportunity.\n",
    "\n",
    "Once we select our province we will use FourSquare API to select the best neighborhood to establish our business, using segmentation and clustering techniques. \n",
    "\n",
    "*Source: Nurturing new growth Canada gets ready for Cannabis 2.0:  \n",
    "\n",
    "https://www2.deloitte.com/content/dam/Deloitte/ca/Documents/c-and-ip/ca-en-consumer-nurturing-new-growth-en-aoda-may31.pdf\n",
    "\n"
   ]
  },
  {
   "cell_type": "code",
   "execution_count": null,
   "metadata": {},
   "outputs": [],
   "source": []
  }
 ],
 "metadata": {
  "kernelspec": {
   "display_name": "Python 3",
   "language": "python",
   "name": "python3"
  },
  "language_info": {
   "codemirror_mode": {
    "name": "ipython",
    "version": 3
   },
   "file_extension": ".py",
   "mimetype": "text/x-python",
   "name": "python",
   "nbconvert_exporter": "python",
   "pygments_lexer": "ipython3",
   "version": "3.7.0"
  }
 },
 "nbformat": 4,
 "nbformat_minor": 2
}
